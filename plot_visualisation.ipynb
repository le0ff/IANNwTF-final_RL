{
 "cells": [
  {
   "cell_type": "markdown",
   "metadata": {},
   "source": [
    "# Visualisation of Training and Testing data"
   ]
  },
  {
   "cell_type": "code",
   "execution_count": null,
   "metadata": {},
   "outputs": [],
   "source": [
    "import numpy as np\n",
    "import matplotlib.pyplot as plt"
   ]
  },
  {
   "cell_type": "code",
   "execution_count": null,
   "metadata": {},
   "outputs": [],
   "source": [
    "def plot_training_results(ax, rewards, accum_avg=False, mean=False):\n",
    "    #plot rewards\n",
    "    ax.plot(rewards, label='Training Rewards')\n",
    "\n",
    "    #accumulated average\n",
    "    if accum_avg:\n",
    "        accumulated = np.cumsum(rewards) / (np.arange(len(rewards)) + 1)\n",
    "        ax.plot(accumulated, 'r', label='Accumulated Reward')\n",
    "    \n",
    "    if mean:\n",
    "        mean = np.mean(rewards)\n",
    "        ax.axhline(mean, color='g', linestyle='--', label='Mean Reward')\n",
    "\n",
    "    #labels, ticks, legend and grid\n",
    "    ax.set_xlabel('Episodes')\n",
    "    ax.set_ylabel('Rewards')\n",
    "    ax.legend()\n",
    "    ax.grid(True)"
   ]
  },
  {
   "cell_type": "markdown",
   "metadata": {},
   "source": [
    "# TRAINING PLOTS"
   ]
  },
  {
   "cell_type": "code",
   "execution_count": null,
   "metadata": {},
   "outputs": [],
   "source": [
    "BATCH_SIZE = [32, 64]\n",
    "TARGET_UPDATE_FREQ = [1, 4, 8, 16, 32]\n",
    "PREPATH = \"lunarlander/models\"\n",
    "\n",
    "fig, axs = plt.subplots(len(TARGET_UPDATE_FREQ), len(BATCH_SIZE), figsize=(15, 20), sharex=True, sharey=True)\n",
    "\n",
    "for i, target_update_freq in enumerate(TARGET_UPDATE_FREQ):\n",
    "    for j, batch_size in enumerate(BATCH_SIZE):\n",
    "        ax = axs[i, j]\n",
    "        PATH = f\"{PREPATH}/batch_size_{batch_size}/target_update_freq_{target_update_freq}\"\n",
    "        rewards = np.load(f\"{PATH}/train_rewards.npy\")\n",
    "        plot_training_results(ax, rewards, accum_avg=True)\n",
    "        ax.set_title(f'Batch Size: {batch_size}, Target Update Freq: {target_update_freq}')\n",
    "\n",
    "plt.tight_layout()\n",
    "plt.show()"
   ]
  },
  {
   "cell_type": "markdown",
   "metadata": {},
   "source": [
    "# TESTING PLOTS"
   ]
  },
  {
   "cell_type": "code",
   "execution_count": null,
   "metadata": {},
   "outputs": [],
   "source": [
    "BATCH_SIZE = [32, 64]\n",
    "TARGET_UPDATE_FREQ = [1, 4, 8, 16, 32]\n",
    "PREPATH = \"lunarlander/models\"\n",
    "\n",
    "fig, axs = plt.subplots(len(TARGET_UPDATE_FREQ), len(BATCH_SIZE), figsize=(15, 20), sharex=True, sharey=True)\n",
    "\n",
    "for i, target_update_freq in enumerate(TARGET_UPDATE_FREQ):\n",
    "    for j, batch_size in enumerate(BATCH_SIZE):\n",
    "        ax = axs[i, j]\n",
    "        PATH = f\"{PREPATH}/batch_size_{batch_size}/target_update_freq_{target_update_freq}\"\n",
    "        rewards = np.load(f\"{PATH}/test_rewards.npy\")\n",
    "        plot_training_results(ax, rewards, accum_avg=False, mean=True)\n",
    "        ax.set_title(f'Batch Size: {batch_size}, Target Update Freq: {target_update_freq}')\n",
    "\n",
    "plt.tight_layout()\n",
    "plt.show()"
   ]
  }
 ],
 "metadata": {
  "kernelspec": {
   "display_name": "tf-rocm",
   "language": "python",
   "name": "python3"
  },
  "language_info": {
   "codemirror_mode": {
    "name": "ipython",
    "version": 3
   },
   "file_extension": ".py",
   "mimetype": "text/x-python",
   "name": "python",
   "nbconvert_exporter": "python",
   "pygments_lexer": "ipython3",
   "version": "3.10.12"
  }
 },
 "nbformat": 4,
 "nbformat_minor": 2
}
