{
 "cells": [
  {
   "cell_type": "markdown",
   "metadata": {},
   "source": [
    "# Testing notebook for CartPole"
   ]
  },
  {
   "cell_type": "code",
   "execution_count": null,
   "metadata": {},
   "outputs": [],
   "source": [
    "import sys\n",
    "sys.path.append(\"..\")\n",
    "from DQN import DQN\n",
    "import tensorflow as tf\n",
    "from tensorflow import keras\n",
    "from tensorflow.keras import layers\n",
    "import numpy as np"
   ]
  },
  {
   "cell_type": "code",
   "execution_count": null,
   "metadata": {},
   "outputs": [],
   "source": [
    "ARCHITECTURE = [\n",
    "    layers.Dense(24, activation=\"relu\", input_shape=(4,)),\n",
    "    layers.Dense(24, activation=\"relu\"),\n",
    "    layers.Dense(2, activation=\"linear\")\n",
    "    ]\n",
    "\n",
    "dqn = DQN(\n",
    "    env_name='CartPole-v0',\n",
    "    replay_buffer_size=100000,\n",
    "    learning_rate=0.001,\n",
    "    discount_factor=0.99,\n",
    "    architecture=ARCHITECTURE,\n",
    ")"
   ]
  },
  {
   "cell_type": "markdown",
   "metadata": {},
   "source": [
    "# PRE-TRAINING\n",
    "Performance of DQN agent before any training"
   ]
  },
  {
   "cell_type": "code",
   "execution_count": null,
   "metadata": {},
   "outputs": [],
   "source": [
    "pretraining = dqn.test(num_episodes=10, output=True, render=True)"
   ]
  },
  {
   "cell_type": "markdown",
   "metadata": {},
   "source": [
    "# TRAINING\n",
    "Example for training"
   ]
  },
  {
   "cell_type": "code",
   "execution_count": null,
   "metadata": {},
   "outputs": [],
   "source": [
    "training = dqn.train(\n",
    "    epsilon_decay=0.995,\n",
    "    num_episodes=150,\n",
    "    batch_size=64,\n",
    "    target_update_freq=8,\n",
    "    output=10,\n",
    "    saving=None,\n",
    "    saving_frequency=50,\n",
    "    render=True,\n",
    ")"
   ]
  },
  {
   "cell_type": "markdown",
   "metadata": {},
   "source": [
    "# SAVING & LOADING"
   ]
  },
  {
   "cell_type": "code",
   "execution_count": null,
   "metadata": {},
   "outputs": [],
   "source": [
    "#save trained model\n",
    "# PATH_TO_SAVE = \"models/PLACEHOLDER.h5\"\n",
    "# dqn.save(PATH_TO_SAVE)\n",
    "\n",
    "#load trained model\n",
    "BATCH_SIZE = 64\n",
    "TARGET_UPDATE_FREQ = 8\n",
    "# MODEL = \"intermediate_results/episode_400\"\n",
    "MODEL = \"final_model\"\n",
    "PATH_TO_LOAD = f\"models/batch_size_{BATCH_SIZE}/target_update_freq_{TARGET_UPDATE_FREQ}/{MODEL}.h5\"\n",
    "dqn.load(PATH_TO_LOAD)"
   ]
  },
  {
   "cell_type": "markdown",
   "metadata": {},
   "source": [
    "# TEST TRAINED MODEL"
   ]
  },
  {
   "cell_type": "code",
   "execution_count": null,
   "metadata": {},
   "outputs": [],
   "source": [
    "test = dqn.test(num_episodes=10, output=True, render=True)\n",
    "print(f\"Average reward: {np.mean(test)}\")"
   ]
  }
 ],
 "metadata": {
  "kernelspec": {
   "display_name": "tf-pettingzoo",
   "language": "python",
   "name": "python3"
  },
  "language_info": {
   "codemirror_mode": {
    "name": "ipython",
    "version": 3
   },
   "file_extension": ".py",
   "mimetype": "text/x-python",
   "name": "python",
   "nbconvert_exporter": "python",
   "pygments_lexer": "ipython3",
   "version": "3.10.12"
  }
 },
 "nbformat": 4,
 "nbformat_minor": 2
}
